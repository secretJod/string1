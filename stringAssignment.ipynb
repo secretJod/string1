{
  "nbformat": 4,
  "nbformat_minor": 0,
  "metadata": {
    "colab": {
      "provenance": []
    },
    "kernelspec": {
      "name": "python3",
      "display_name": "Python 3"
    },
    "language_info": {
      "name": "python"
    }
  },
  "cells": [
    {
      "cell_type": "code",
      "source": [
        "Q1. How can we store a single quote (‘) as a string in a variable?\n",
        "Q2. Refer the below variable:\n",
        "x = ‘a’\n",
        "Here, is x a character type or string type variable? Support your answer with an explanation.\n",
        "Q3. Apply the following functions on this variable: ‘Welcome to Python foundation course'\n",
        "SP find(0\n",
        ".P count(0\n",
        "?P len(0\n",
        "P Concatenation\n",
        "Note: You can use your choice of parameters. But make sure it is correct.\n",
        "Q4. For the variable: word = ‘PanaJi@12256’\n",
        "Calculate the following:\n",
        "(a) Total number of alphabets in lowercase\n",
        "(b) Total number of alphabets in uppercase\n",
        "(c) Total number of numerical in string\n",
        "Q5. Write a code to store a numerical value inside a variable then convert it into string."
      ],
      "metadata": {
        "id": "1_1_dKrmFqXf"
      },
      "execution_count": null,
      "outputs": []
    },
    {
      "cell_type": "code",
      "source": [
        "my_string = \"I'm learning Python\"\n"
      ],
      "metadata": {
        "id": "I77oZfcMFqaI"
      },
      "execution_count": null,
      "outputs": []
    },
    {
      "cell_type": "code",
      "source": [
        "my_string = 'Welcome to Python foundation course'\n",
        "\n",
        "# Using specified functions\n",
        "print(my_string.find('o'))  # Output: 4\n",
        "print(my_string.count('o'))  # Output: 5\n",
        "print(len(my_string))  # Output: 31\n",
        "print(my_string + ' - Advanced')  # Output: Welcome to Python foundation course - Advanced\n"
      ],
      "metadata": {
        "id": "oUkpi8xtFqc-"
      },
      "execution_count": null,
      "outputs": []
    },
    {
      "cell_type": "code",
      "source": [
        "word = 'PanaJi@12256'\n",
        "\n",
        "# Calculate the following:\n",
        "# (a) Total number of alphabets in lowercase\n",
        "lowercase_count = sum(1 for char in word if char.islower())\n",
        "print(\"Total number of lowercase alphabets:\", lowercase_count)\n",
        "\n",
        "# (b) Total number of alphabets in uppercase\n",
        "uppercase_count = sum(1 for char in word if char.isupper())\n",
        "print(\"Total number of uppercase alphabets:\", uppercase_count)\n",
        "\n",
        "# (c) Total number of numerical in string\n",
        "numeric_count = sum(1 for char in word if char.isdigit())\n",
        "print(\"Total number of numerical characters:\", numeric_count)\n"
      ],
      "metadata": {
        "id": "z6cnQBeYFqfV"
      },
      "execution_count": null,
      "outputs": []
    },
    {
      "cell_type": "code",
      "source": [
        "Q2. The variable x = ‘a’ is of string type. In Python, there is no separate character type, and a string of length 1 is used to represent a character. So, in this case, x is a string containing the character 'a'."
      ],
      "metadata": {
        "id": "GzzewdpgFqh8"
      },
      "execution_count": null,
      "outputs": []
    },
    {
      "cell_type": "code",
      "source": [
        "# Store a numerical value inside a variable\n",
        "num_value = 123\n",
        "\n",
        "# Convert it into string\n",
        "num_string = str(num_value)\n",
        "\n",
        "# Check the types\n",
        "print(type(num_value))  # Output: <class 'int'>\n",
        "print(type(num_string))  # Output: <class 'str'>\n"
      ],
      "metadata": {
        "id": "CVy-5UfiF16b"
      },
      "execution_count": null,
      "outputs": []
    }
  ]
}